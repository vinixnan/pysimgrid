{
 "cells": [
  {
   "cell_type": "code",
   "execution_count": 1,
   "id": "bae2f26e",
   "metadata": {},
   "outputs": [],
   "source": [
    "from pysimgrid import simdag\n",
    "import pysimgrid.simdag.algorithms as algorithms\n",
    "import networkx\n",
    "import sys"
   ]
  },
  {
   "cell_type": "code",
   "execution_count": 2,
   "id": "ed2dbb20",
   "metadata": {},
   "outputs": [],
   "source": [
    "def run_simulation(alg, xml, dot):\n",
    "    with simdag.Simulation(xml, dot) as simulation:\n",
    "      classdef = getattr(algorithms, alg)\n",
    "      scheduler = classdef(simulation)\n",
    "      scheduler.run()\n",
    "      print(simulation.clock, scheduler.scheduler_time, scheduler.total_time)\n",
    "      return scheduler"
   ]
  },
  {
   "cell_type": "code",
   "execution_count": 6,
   "id": "26a1912d",
   "metadata": {},
   "outputs": [],
   "source": [
    "xml=\"test/data/pl_4hosts.xml\"\n",
    "dot=\"test/data/basic_graph.dot\"\n",
    "alg=\"HEFT\""
   ]
  },
  {
   "cell_type": "code",
   "execution_count": 7,
   "id": "49a69922",
   "metadata": {},
   "outputs": [
    {
     "name": "stdout",
     "output_type": "stream",
     "text": [
      "15.786311462248996 0.01273036003112793 0.015499353408813477\n"
     ]
    }
   ],
   "source": [
    "sc=run_simulation(alg, xml, dot)"
   ]
  },
  {
   "cell_type": "code",
   "execution_count": 13,
   "id": "c936f2a3",
   "metadata": {},
   "outputs": [
    {
     "data": {
      "text/plain": [
       "['__class__',\n",
       " '__delattr__',\n",
       " '__dir__',\n",
       " '__doc__',\n",
       " '__eq__',\n",
       " '__format__',\n",
       " '__ge__',\n",
       " '__getattribute__',\n",
       " '__gt__',\n",
       " '__hash__',\n",
       " '__init__',\n",
       " '__init_subclass__',\n",
       " '__le__',\n",
       " '__lt__',\n",
       " '__ne__',\n",
       " '__new__',\n",
       " '__reduce__',\n",
       " '__reduce_ex__',\n",
       " '__repr__',\n",
       " '__setattr__',\n",
       " '__setstate__',\n",
       " '__sizeof__',\n",
       " '__str__',\n",
       " '__subclasshook__',\n",
       " 'copy',\n",
       " 'max_time',\n",
       " 'schedule',\n",
       " 'task_states',\n",
       " 'timetable',\n",
       " 'update']"
      ]
     },
     "execution_count": 13,
     "metadata": {},
     "output_type": "execute_result"
    }
   ],
   "source": [
    "dir(sc.state)"
   ]
  },
  {
   "cell_type": "code",
   "execution_count": 24,
   "id": "6b8a55b9",
   "metadata": {},
   "outputs": [
    {
     "name": "stdout",
     "output_type": "stream",
     "text": [
      "1.0\n",
      "None\n",
      "host0\n",
      "187651384573536\n",
      "2000000000.0\n"
     ]
    }
   ],
   "source": [
    "def printhost(host):\n",
    "    print(host.available_speed)\n",
    "    print(host.data)\n",
    "    print(host.name)\n",
    "    print(host.native)\n",
    "    print(host.speed)\n",
    "\n",
    "printhost(list(sc.state.schedule.keys())[0])"
   ]
  },
  {
   "cell_type": "code",
   "execution_count": 34,
   "id": "cb042c46",
   "metadata": {},
   "outputs": [
    {
     "name": "stdout",
     "output_type": "stream",
     "text": [
      "{<pysimgrid.cplatform.Host object at 0xffff694898c8>: [(<pysimgrid.simdag.simulation._SimulationTask object at 0xffff93968d58>, 0.0, 0.0), (<pysimgrid.simdag.simulation._SimulationTask object at 0xffff6941c0a0>, 0.0, 1.0), (<pysimgrid.simdag.simulation._SimulationTask object at 0xffff6941c0f8>, 1.0, 3.5), (<pysimgrid.simdag.simulation._SimulationTask object at 0xffff6941c150>, 3.5, 4.5), (<pysimgrid.simdag.simulation._SimulationTask object at 0xffff6941c200>, 4.5, 9.5), (<pysimgrid.simdag.simulation._SimulationTask object at 0xffff6941c2b0>, 9.5, 11.0), (<pysimgrid.simdag.simulation._SimulationTask object at 0xffff6941c308>, 11.0, 14.5), (<pysimgrid.simdag.simulation._SimulationTask object at 0xffff6941c7d8>, 14.5, 14.5)], <pysimgrid.cplatform.Host object at 0xffff69558c08>: [(<pysimgrid.simdag.simulation._SimulationTask object at 0xffff6941c258>, 5.0001, 8.0001)], <pysimgrid.cplatform.Host object at 0xffff6954cdc8>: [(<pysimgrid.simdag.simulation._SimulationTask object at 0xffff6941c1a8>, 5.0001, 5.2501)], <pysimgrid.cplatform.Host object at 0xffff6946e408>: []}\n"
     ]
    }
   ],
   "source": [
    "print(sc.state.timetable)"
   ]
  },
  {
   "cell_type": "code",
   "execution_count": 31,
   "id": "3615ba6f",
   "metadata": {},
   "outputs": [
    {
     "name": "stdout",
     "output_type": "stream",
     "text": [
      "2000000000.0\n",
      "2000000000.0\n",
      "[<pysimgrid.simdag.simulation._SimulationTask object at 0xffff6941c360>, <pysimgrid.simdag.simulation._SimulationTask object at 0xffff6941c0f8>]\n",
      "{'ect': 1.0}\n",
      "<built-in method dump of _SimulationTask object at 0xffff6941c0a0>\n",
      "1.401801575702811\n",
      "[<pysimgrid.cplatform.Host object at 0xffff694898c8>]\n",
      "c1\n",
      "187651387201456\n",
      "[<pysimgrid.simdag.simulation._SimulationTask object at 0xffff6941c728>]\n",
      "<bound method _SimulationTask.schedule of <pysimgrid.simdag.simulation._SimulationTask object at 0xffff6941c0a0>>\n",
      "<bound method _SimulationTask.schedule_after of <pysimgrid.simdag.simulation._SimulationTask object at 0xffff6941c0a0>>\n",
      "0.40180157570281116\n"
     ]
    }
   ],
   "source": [
    "def printtask(task):\n",
    "    print(task.amount)\n",
    "    print(task.amount_estimate)\n",
    "    print(task.children)\n",
    "    print(task.data)\n",
    "    print(task.dump)\n",
    "    print(task.finish_time)\n",
    "    print(task.hosts)\n",
    "    print(task.name)\n",
    "    print(task.native)\n",
    "    print(task.parents)\n",
    "    print(task.schedule)\n",
    "    print(task.schedule_after)\n",
    "    print(task.start_time)\n",
    "    \n",
    "printtask(list(sc.state.schedule.values())[0][1])"
   ]
  },
  {
   "cell_type": "code",
   "execution_count": null,
   "id": "4f38e0d4",
   "metadata": {},
   "outputs": [],
   "source": []
  }
 ],
 "metadata": {
  "kernelspec": {
   "display_name": "Python 3",
   "language": "python",
   "name": "python3"
  },
  "language_info": {
   "codemirror_mode": {
    "name": "ipython",
    "version": 3
   },
   "file_extension": ".py",
   "mimetype": "text/x-python",
   "name": "python",
   "nbconvert_exporter": "python",
   "pygments_lexer": "ipython3",
   "version": "3.6.15"
  }
 },
 "nbformat": 4,
 "nbformat_minor": 5
}
